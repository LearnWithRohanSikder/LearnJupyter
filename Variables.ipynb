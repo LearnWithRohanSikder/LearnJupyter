{
 "cells": [
  {
   "cell_type": "markdown",
   "id": "7becdaf9",
   "metadata": {},
   "source": [
    "<h1> Python Variables </h1>\n",
    "\n",
    "***\n",
    "\n",
    "All imperative programming languages with t"
   ]
  },
  {
   "cell_type": "code",
   "execution_count": null,
   "id": "e9bd136e",
   "metadata": {},
   "outputs": [],
   "source": [
    "#Boolean\n",
    "b = True\n",
    "\n",
    "#Integer.\n",
    "i = 1\n",
    "\n",
    "#Float.\n",
    "f = 1.0\n",
    "\n",
    "#String.\n",
    "c ='c'\n",
    "\n",
    "#Quotes in string.\n",
    "s = \"Hello, World!\"\n",
    "\n",
    "t = \"I can't Believe it!\"\n",
    "\n",
    "u = 'Rohan says \"Hello\"'\n",
    "\n",
    "v = \"Rohan says \\\"Hello\\\"\""
   ]
  },
  {
   "cell_type": "code",
   "execution_count": null,
   "id": "97d9edc4",
   "metadata": {},
   "outputs": [],
   "source": [
    "b"
   ]
  },
  {
   "cell_type": "code",
   "execution_count": null,
   "id": "15c882b9",
   "metadata": {},
   "outputs": [],
   "source": [
    "i"
   ]
  },
  {
   "cell_type": "code",
   "execution_count": null,
   "id": "04758b8c",
   "metadata": {},
   "outputs": [],
   "source": [
    "f"
   ]
  },
  {
   "cell_type": "code",
   "execution_count": null,
   "id": "743f43aa",
   "metadata": {},
   "outputs": [],
   "source": [
    "type(i)"
   ]
  },
  {
   "cell_type": "code",
   "execution_count": null,
   "id": "c267800e",
   "metadata": {},
   "outputs": [],
   "source": [
    "type(f)"
   ]
  },
  {
   "cell_type": "code",
   "execution_count": null,
   "id": "c80c66b4",
   "metadata": {},
   "outputs": [],
   "source": [
    "i + i"
   ]
  },
  {
   "cell_type": "code",
   "execution_count": null,
   "id": "465e1738",
   "metadata": {},
   "outputs": [],
   "source": [
    "f + f"
   ]
  },
  {
   "cell_type": "code",
   "execution_count": null,
   "id": "9670bac1",
   "metadata": {},
   "outputs": [],
   "source": [
    "i + f"
   ]
  },
  {
   "cell_type": "code",
   "execution_count": null,
   "id": "00805a94",
   "metadata": {},
   "outputs": [],
   "source": [
    "type(c)"
   ]
  },
  {
   "cell_type": "code",
   "execution_count": null,
   "id": "d765f09d",
   "metadata": {},
   "outputs": [],
   "source": [
    "type(s)"
   ]
  },
  {
   "cell_type": "code",
   "execution_count": null,
   "id": "8601db91",
   "metadata": {},
   "outputs": [],
   "source": [
    "s"
   ]
  },
  {
   "cell_type": "code",
   "execution_count": null,
   "id": "1239bdc2",
   "metadata": {},
   "outputs": [],
   "source": [
    "t"
   ]
  },
  {
   "cell_type": "code",
   "execution_count": null,
   "id": "af499913",
   "metadata": {},
   "outputs": [],
   "source": [
    "v"
   ]
  },
  {
   "cell_type": "code",
   "execution_count": null,
   "id": "ed27dc8e",
   "metadata": {},
   "outputs": [],
   "source": [
    "u == v"
   ]
  },
  {
   "cell_type": "code",
   "execution_count": null,
   "id": "a3fa9543",
   "metadata": {},
   "outputs": [],
   "source": [
    "u + v"
   ]
  },
  {
   "cell_type": "code",
   "execution_count": null,
   "id": "b9819564",
   "metadata": {},
   "outputs": [],
   "source": [
    "u * 3"
   ]
  },
  {
   "cell_type": "code",
   "execution_count": null,
   "id": "7c897328",
   "metadata": {},
   "outputs": [],
   "source": []
  }
 ],
 "metadata": {
  "kernelspec": {
   "display_name": "Python 3 (ipykernel)",
   "language": "python",
   "name": "python3"
  },
  "language_info": {
   "codemirror_mode": {
    "name": "ipython",
    "version": 3
   },
   "file_extension": ".py",
   "mimetype": "text/x-python",
   "name": "python",
   "nbconvert_exporter": "python",
   "pygments_lexer": "ipython3",
   "version": "3.9.7"
  }
 },
 "nbformat": 4,
 "nbformat_minor": 5
}
