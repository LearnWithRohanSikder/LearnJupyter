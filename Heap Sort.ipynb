{
 "cells": [
  {
   "cell_type": "markdown",
   "id": "bfcc1e11",
   "metadata": {},
   "source": [
    "# Heap Sort"
   ]
  },
  {
   "cell_type": "markdown",
   "id": "39015414",
   "metadata": {},
   "source": [
    "## List in Python"
   ]
  },
  {
   "cell_type": "code",
   "execution_count": 1,
   "id": "fb320a68",
   "metadata": {},
   "outputs": [],
   "source": [
    "# Lists in python can be created with sqaure bracket notation\n",
    "L = [1, 2, 3, \"Hello World!\", None, True]"
   ]
  },
  {
   "cell_type": "code",
   "execution_count": 2,
   "id": "48eba653",
   "metadata": {},
   "outputs": [
    {
     "data": {
      "text/plain": [
       "'Hello World!'"
      ]
     },
     "execution_count": 2,
     "metadata": {},
     "output_type": "execute_result"
    }
   ],
   "source": [
    "# They are zero indexed, as usual.\n",
    "L[3]"
   ]
  },
  {
   "cell_type": "code",
   "execution_count": 3,
   "id": "21fe6aef",
   "metadata": {},
   "outputs": [
    {
     "data": {
      "text/plain": [
       "[1, 2, 3]"
      ]
     },
     "execution_count": 3,
     "metadata": {},
     "output_type": "execute_result"
    }
   ],
   "source": [
    "# Create lists with the list() function\n",
    "list({1,2,3})"
   ]
  },
  {
   "cell_type": "code",
   "execution_count": 4,
   "id": "e4fa1644",
   "metadata": {},
   "outputs": [
    {
     "data": {
      "text/plain": [
       "True"
      ]
     },
     "execution_count": 4,
     "metadata": {},
     "output_type": "execute_result"
    }
   ],
   "source": [
    "# Using negative indexes.\n",
    "L[-1]"
   ]
  },
  {
   "cell_type": "code",
   "execution_count": 5,
   "id": "bf11cd62",
   "metadata": {},
   "outputs": [
    {
     "data": {
      "text/plain": [
       "'Hello World!'"
      ]
     },
     "execution_count": 5,
     "metadata": {},
     "output_type": "execute_result"
    }
   ],
   "source": [
    "L[-3]"
   ]
  },
  {
   "cell_type": "code",
   "execution_count": 6,
   "id": "2015810c",
   "metadata": {},
   "outputs": [
    {
     "data": {
      "text/plain": [
       "[0, 2, 4, 6, 8, 10, 12, 14, 16, 18]"
      ]
     },
     "execution_count": 6,
     "metadata": {},
     "output_type": "execute_result"
    }
   ],
   "source": [
    "# In -built functions for creating iterables.\n",
    "list(range(0,20,2))"
   ]
  },
  {
   "cell_type": "code",
   "execution_count": 7,
   "id": "f10ccd0d",
   "metadata": {},
   "outputs": [
    {
     "data": {
      "text/plain": [
       "[0, 1, 2, 3, 4, 5, 6, 7, 8, 9, 10, 11, 12, 13, 14, 15, 16, 17, 18, 19]"
      ]
     },
     "execution_count": 7,
     "metadata": {},
     "output_type": "execute_result"
    }
   ],
   "source": [
    "# In -built functions for creating iterables.\n",
    "L = list(range(20))\n",
    "L"
   ]
  },
  {
   "cell_type": "code",
   "execution_count": 8,
   "id": "0878119c",
   "metadata": {},
   "outputs": [
    {
     "data": {
      "text/plain": [
       "[1, 3, 5, 7, 9]"
      ]
     },
     "execution_count": 8,
     "metadata": {},
     "output_type": "execute_result"
    }
   ],
   "source": [
    "# List scliceing.\n",
    "L[1:10:2]"
   ]
  },
  {
   "cell_type": "code",
   "execution_count": 9,
   "id": "ecf43684",
   "metadata": {},
   "outputs": [
    {
     "data": {
      "text/plain": [
       "[5, 6, 7, 8, 9, 10, 11, 12, 13, 14, 15, 16, 17, 18, 19]"
      ]
     },
     "execution_count": 9,
     "metadata": {},
     "output_type": "execute_result"
    }
   ],
   "source": [
    "# List scliceing.\n",
    "L[5:]"
   ]
  },
  {
   "cell_type": "code",
   "execution_count": 10,
   "id": "3073be74",
   "metadata": {},
   "outputs": [
    {
     "data": {
      "text/plain": [
       "[5, 6, 7, 8, 9, 10, 11, 12, 13, 14, 15, 16, 17, 18, 19, 0, 1, 2, 3, 4]"
      ]
     },
     "execution_count": 10,
     "metadata": {},
     "output_type": "execute_result"
    }
   ],
   "source": [
    "# Quick way to cycle list to the left.\n",
    "i = 5;\n",
    "L[i:] + L[:i]"
   ]
  },
  {
   "cell_type": "code",
   "execution_count": 11,
   "id": "1c6fbf0b",
   "metadata": {},
   "outputs": [],
   "source": [
    "# Tuples -- Immutable\n",
    "T = (1,2,3,4)"
   ]
  },
  {
   "cell_type": "code",
   "execution_count": 12,
   "id": "eadf8a9f",
   "metadata": {},
   "outputs": [
    {
     "data": {
      "text/plain": [
       "1"
      ]
     },
     "execution_count": 12,
     "metadata": {},
     "output_type": "execute_result"
    }
   ],
   "source": [
    "# Select elements.\n",
    "T[0]"
   ]
  },
  {
   "cell_type": "code",
   "execution_count": 13,
   "id": "d5f6b0bb",
   "metadata": {},
   "outputs": [
    {
     "data": {
      "text/plain": [
       "(4,)"
      ]
     },
     "execution_count": 13,
     "metadata": {},
     "output_type": "execute_result"
    }
   ],
   "source": [
    "# Slice\n",
    "T[3:]"
   ]
  },
  {
   "cell_type": "code",
   "execution_count": 14,
   "id": "a07378e0",
   "metadata": {},
   "outputs": [],
   "source": [
    "# Can't assign  - would give an error\n",
    "# T[2] = 100"
   ]
  },
  {
   "cell_type": "code",
   "execution_count": 15,
   "id": "2a29db51",
   "metadata": {},
   "outputs": [
    {
     "data": {
      "text/plain": [
       "(1, 2, 3, 4)"
      ]
     },
     "execution_count": 15,
     "metadata": {},
     "output_type": "execute_result"
    }
   ],
   "source": [
    "# Tuples are created with commas, as opposed to roud brackets.\n",
    "T = 1, 2, 3, 4\n",
    "T"
   ]
  },
  {
   "cell_type": "code",
   "execution_count": 16,
   "id": "cc97587a",
   "metadata": {},
   "outputs": [],
   "source": [
    "# You can use tuples for assignment.\n",
    "a, b = 3, 4"
   ]
  },
  {
   "cell_type": "code",
   "execution_count": 17,
   "id": "c12b4ff2",
   "metadata": {},
   "outputs": [
    {
     "data": {
      "text/plain": [
       "3"
      ]
     },
     "execution_count": 17,
     "metadata": {},
     "output_type": "execute_result"
    }
   ],
   "source": [
    "a"
   ]
  },
  {
   "cell_type": "code",
   "execution_count": 18,
   "id": "dce74ad4",
   "metadata": {},
   "outputs": [
    {
     "data": {
      "text/plain": [
       "4"
      ]
     },
     "execution_count": 18,
     "metadata": {},
     "output_type": "execute_result"
    }
   ],
   "source": [
    "b"
   ]
  },
  {
   "cell_type": "code",
   "execution_count": 19,
   "id": "ef1b6e57",
   "metadata": {},
   "outputs": [],
   "source": [
    "# Nice trick for swapping two values.\n",
    "a, b = b, a"
   ]
  },
  {
   "cell_type": "code",
   "execution_count": 20,
   "id": "9384f451",
   "metadata": {},
   "outputs": [
    {
     "data": {
      "text/plain": [
       "4"
      ]
     },
     "execution_count": 20,
     "metadata": {},
     "output_type": "execute_result"
    }
   ],
   "source": [
    "a"
   ]
  },
  {
   "cell_type": "code",
   "execution_count": 21,
   "id": "ca61e6fe",
   "metadata": {},
   "outputs": [
    {
     "data": {
      "text/plain": [
       "3"
      ]
     },
     "execution_count": 21,
     "metadata": {},
     "output_type": "execute_result"
    }
   ],
   "source": [
    "b"
   ]
  },
  {
   "cell_type": "code",
   "execution_count": 22,
   "id": "5e8a4387",
   "metadata": {},
   "outputs": [
    {
     "data": {
      "text/plain": [
       "[0, 1, 2, 3, 4, 5, 6, 7, 8, 9]"
      ]
     },
     "execution_count": 22,
     "metadata": {},
     "output_type": "execute_result"
    }
   ],
   "source": [
    "# List of integers\n",
    "L = list(range(10))\n",
    "L"
   ]
  },
  {
   "cell_type": "code",
   "execution_count": 23,
   "id": "9cca7c90",
   "metadata": {},
   "outputs": [
    {
     "data": {
      "text/plain": [
       "[0, 1, 8, 27, 64, 125, 216, 343, 512, 729]"
      ]
     },
     "execution_count": 23,
     "metadata": {},
     "output_type": "execute_result"
    }
   ],
   "source": [
    "# List Comprehension\n",
    "[i**3 for i in L]"
   ]
  },
  {
   "cell_type": "code",
   "execution_count": 24,
   "id": "dd87fee0",
   "metadata": {},
   "outputs": [
    {
     "data": {
      "text/plain": [
       "[9, 8, 7, 6, 5, 4, 3, 2, 1, 0]"
      ]
     },
     "execution_count": 24,
     "metadata": {},
     "output_type": "execute_result"
    }
   ],
   "source": [
    "# Curve ball.\n",
    "L[::-1]"
   ]
  },
  {
   "cell_type": "markdown",
   "id": "4da48ce8",
   "metadata": {},
   "source": [
    "<br>\n",
    "\n",
    "## Bubble Sort\n",
    "\n",
    "***"
   ]
  },
  {
   "cell_type": "code",
   "execution_count": 25,
   "id": "e8c7cd38",
   "metadata": {},
   "outputs": [],
   "source": [
    "# Importing Random library\n",
    "import random"
   ]
  },
  {
   "cell_type": "code",
   "execution_count": 26,
   "id": "115a2002",
   "metadata": {},
   "outputs": [
    {
     "data": {
      "text/plain": [
       "[1, 2, 3, 4, 5, 6, 7, 8, 9, 10]"
      ]
     },
     "execution_count": 26,
     "metadata": {},
     "output_type": "execute_result"
    }
   ],
   "source": [
    "# Create a list of integers.\n",
    "L = list(range(1,11))\n",
    "L"
   ]
  },
  {
   "cell_type": "code",
   "execution_count": 27,
   "id": "df8e8855",
   "metadata": {},
   "outputs": [],
   "source": [
    "# Shuffle the list.\n",
    "random.shuffle(L)"
   ]
  },
  {
   "cell_type": "code",
   "execution_count": 28,
   "id": "2989b6be",
   "metadata": {},
   "outputs": [
    {
     "data": {
      "text/plain": [
       "[2, 5, 3, 7, 4, 1, 8, 9, 6, 10]"
      ]
     },
     "execution_count": 28,
     "metadata": {},
     "output_type": "execute_result"
    }
   ],
   "source": [
    "# The list is shuffled.\n",
    "L"
   ]
  },
  {
   "cell_type": "code",
   "execution_count": 29,
   "id": "f65ab563",
   "metadata": {},
   "outputs": [],
   "source": [
    "# Bubble Sort.\n",
    "\n",
    "# Keep track of number of comparisons.\n",
    "no_comparisons = 0\n",
    "\n",
    "# Bubble every (biggest) element up.\n",
    "for j in range(len(L) - 1):\n",
    "    # Keep track of any swaps.\n",
    "    swapped = False\n",
    "    # Compare all elements that are side by side.\n",
    "    for i in range(len(L) - 1):\n",
    "        # Comare the ith element with the (i+1)th.\n",
    "        if L[i] > L[i+1]:\n",
    "            # Swap the elements.\n",
    "            L[i], L[i+1] = L[i+1], L[i]\n",
    "            # Keep track of the swap.\n",
    "            swapped = True\n",
    "        # Add a comparison\n",
    "        no_comparisons = no_comparisons + 1\n",
    "    # Quit if we didn't make any swaps.\n",
    "    if not swapped:\n",
    "        break"
   ]
  },
  {
   "cell_type": "code",
   "execution_count": 30,
   "id": "5d228ea7",
   "metadata": {},
   "outputs": [
    {
     "data": {
      "text/plain": [
       "[1, 2, 3, 4, 5, 6, 7, 8, 9, 10]"
      ]
     },
     "execution_count": 30,
     "metadata": {},
     "output_type": "execute_result"
    }
   ],
   "source": [
    "L"
   ]
  },
  {
   "cell_type": "code",
   "execution_count": 31,
   "id": "5727cade",
   "metadata": {},
   "outputs": [
    {
     "data": {
      "text/plain": [
       "54"
      ]
     },
     "execution_count": 31,
     "metadata": {},
     "output_type": "execute_result"
    }
   ],
   "source": [
    "no_comparisons"
   ]
  },
  {
   "cell_type": "code",
   "execution_count": 32,
   "id": "2e84be81",
   "metadata": {},
   "outputs": [],
   "source": [
    "# Bubble sort as a function.\n",
    "\n",
    "def bubble_sort(L):\n",
    "\n",
    "    # Keep track of number of comparisons.\n",
    "    no_comparisons = 0\n",
    "\n",
    "    # Bubble every (biggest) element up.\n",
    "    for j in range(len(L) - 1):\n",
    "        # Keep track of any swaps.\n",
    "        swapped = False\n",
    "        # Compare all elements that are side by side.\n",
    "        for i in range(len(L) - 1 - j):\n",
    "            # Comare the ith element with the (i+1)th.\n",
    "            if L[i] > L[i+1]:\n",
    "                # Swap the elements.\n",
    "                L[i], L[i+1] = L[i+1], L[i]\n",
    "                # Keep track of the swap.\n",
    "                swapped = True\n",
    "            # Add a comparison\n",
    "            no_comparisons = no_comparisons + 1\n",
    "        # Quit if we didn't make any swaps.\n",
    "        if not swapped:\n",
    "            break\n",
    "    # Return the number of comparisons made.\n",
    "    return no_comparisons"
   ]
  },
  {
   "cell_type": "code",
   "execution_count": 33,
   "id": "bdd9e225",
   "metadata": {},
   "outputs": [
    {
     "data": {
      "text/plain": [
       "[9, 8, 6, 5, 1, 2, 10, 7, 3, 4]"
      ]
     },
     "execution_count": 33,
     "metadata": {},
     "output_type": "execute_result"
    }
   ],
   "source": [
    "# Create a list of integers.\n",
    "L = list(range(1,11))\n",
    "\n",
    "# Shuffle the list.\n",
    "random.shuffle(L)\n",
    "\n",
    "# The list is shuffled.\n",
    "L"
   ]
  },
  {
   "cell_type": "code",
   "execution_count": 34,
   "id": "a2211885",
   "metadata": {},
   "outputs": [
    {
     "data": {
      "text/plain": [
       "42"
      ]
     },
     "execution_count": 34,
     "metadata": {},
     "output_type": "execute_result"
    }
   ],
   "source": [
    "bubble_sort(L)"
   ]
  },
  {
   "cell_type": "code",
   "execution_count": 35,
   "id": "3a1d91f6",
   "metadata": {},
   "outputs": [
    {
     "data": {
      "text/plain": [
       "[1, 2, 3, 4, 5, 6, 7, 8, 9, 10]"
      ]
     },
     "execution_count": 35,
     "metadata": {},
     "output_type": "execute_result"
    }
   ],
   "source": [
    "L"
   ]
  },
  {
   "cell_type": "code",
   "execution_count": 36,
   "id": "c14fd80f",
   "metadata": {},
   "outputs": [
    {
     "data": {
      "text/plain": [
       "9"
      ]
     },
     "execution_count": 36,
     "metadata": {},
     "output_type": "execute_result"
    }
   ],
   "source": [
    "# Once the list is sorted - bubble is O(n)\n",
    "bubble_sort(L)"
   ]
  },
  {
   "cell_type": "code",
   "execution_count": 37,
   "id": "b5bba552",
   "metadata": {},
   "outputs": [
    {
     "data": {
      "text/plain": [
       "[10, 9, 8, 7, 6, 5, 4, 3, 2, 1]"
      ]
     },
     "execution_count": 37,
     "metadata": {},
     "output_type": "execute_result"
    }
   ],
   "source": [
    "# The worst case for bubble sort.\n",
    "L[::-1]"
   ]
  },
  {
   "cell_type": "code",
   "execution_count": 38,
   "id": "443f74e0",
   "metadata": {},
   "outputs": [
    {
     "data": {
      "text/plain": [
       "45"
      ]
     },
     "execution_count": 38,
     "metadata": {},
     "output_type": "execute_result"
    }
   ],
   "source": [
    "# This is still O(n^2).\n",
    "bubble_sort(L[::-1])"
   ]
  },
  {
   "cell_type": "markdown",
   "id": "66718206",
   "metadata": {},
   "source": [
    "<br>\n",
    "\n",
    "# Heap Sort\n",
    "\n",
    "***"
   ]
  },
  {
   "cell_type": "markdown",
   "id": "81af372c",
   "metadata": {},
   "source": [
    "#### Transplanted from Wikipedia \n",
    "\n",
    "https://en.wikipedia.org/wiki/Heapsort"
   ]
  },
  {
   "cell_type": "code",
   "execution_count": 39,
   "id": "520a9ac2",
   "metadata": {},
   "outputs": [],
   "source": [
    "def heapify(a, count):\n",
    "    start =  (count - 2) // 2\n",
    "    \n",
    "    while start >=0:\n",
    "        siftDown(a, start, count - 1)\n",
    "        start = start - 1"
   ]
  },
  {
   "cell_type": "code",
   "execution_count": 40,
   "id": "836deca9",
   "metadata": {},
   "outputs": [],
   "source": [
    "def siftDown(a, start, end):\n",
    "    root = start\n",
    "    \n",
    "    while (2 * root + 1) <= end:\n",
    "        child = (2 * root + 1)\n",
    "        swap = root\n",
    "        \n",
    "        if a[swap] < a [child]:\n",
    "            swap = child\n",
    "        if child + 1 <= end and a[swap] < a [child + 1]:\n",
    "            swap = child + 1\n",
    "        if swap == root:\n",
    "            return\n",
    "        else:\n",
    "            a[root], a[swap] = a[swap], a[root]\n",
    "            root = swap"
   ]
  },
  {
   "cell_type": "code",
   "execution_count": 41,
   "id": "bcea4e27",
   "metadata": {},
   "outputs": [],
   "source": [
    "def heapsort(a):\n",
    "    count = len(a)\n",
    "    heapify(a, count)\n",
    "    end = count - 1\n",
    "    \n",
    "    while end > 0:\n",
    "        a[0], a[end] = a[end], a[0]\n",
    "        end = end - 1\n",
    "        siftDown(a, 0, end)"
   ]
  },
  {
   "cell_type": "code",
   "execution_count": 42,
   "id": "d371a90b",
   "metadata": {},
   "outputs": [
    {
     "data": {
      "text/plain": [
       "[1, 4, 1, 5, 6, 2, 7]"
      ]
     },
     "execution_count": 42,
     "metadata": {},
     "output_type": "execute_result"
    }
   ],
   "source": [
    "L = [1,4,1,5,6,2,7]\n",
    "L"
   ]
  },
  {
   "cell_type": "code",
   "execution_count": 43,
   "id": "42f5e9c9",
   "metadata": {
    "scrolled": true
   },
   "outputs": [
    {
     "data": {
      "text/plain": [
       "[1, 1, 2, 4, 5, 6, 7]"
      ]
     },
     "execution_count": 43,
     "metadata": {},
     "output_type": "execute_result"
    }
   ],
   "source": [
    "heapsort(L)\n",
    "L"
   ]
  },
  {
   "cell_type": "code",
   "execution_count": 44,
   "id": "7bcfa59f",
   "metadata": {},
   "outputs": [
    {
     "name": "stdout",
     "output_type": "stream",
     "text": [
      "(0, 1, 2, 3),  -> [0, 1, 2, 3]\n",
      "(0, 1, 3, 2),  -> [0, 1, 2, 3]\n",
      "(0, 2, 1, 3),  -> [0, 1, 2, 3]\n",
      "(0, 2, 3, 1),  -> [0, 1, 2, 3]\n",
      "(0, 3, 1, 2),  -> [0, 1, 2, 3]\n",
      "(0, 3, 2, 1),  -> [0, 1, 2, 3]\n",
      "(1, 0, 2, 3),  -> [0, 1, 2, 3]\n",
      "(1, 0, 3, 2),  -> [0, 1, 2, 3]\n",
      "(1, 2, 0, 3),  -> [0, 1, 2, 3]\n",
      "(1, 2, 3, 0),  -> [0, 1, 2, 3]\n",
      "(1, 3, 0, 2),  -> [0, 1, 2, 3]\n",
      "(1, 3, 2, 0),  -> [0, 1, 2, 3]\n",
      "(2, 0, 1, 3),  -> [0, 1, 2, 3]\n",
      "(2, 0, 3, 1),  -> [0, 1, 2, 3]\n",
      "(2, 1, 0, 3),  -> [0, 1, 2, 3]\n",
      "(2, 1, 3, 0),  -> [0, 1, 2, 3]\n",
      "(2, 3, 0, 1),  -> [0, 1, 2, 3]\n",
      "(2, 3, 1, 0),  -> [0, 1, 2, 3]\n",
      "(3, 0, 1, 2),  -> [0, 1, 2, 3]\n",
      "(3, 0, 2, 1),  -> [0, 1, 2, 3]\n",
      "(3, 1, 0, 2),  -> [0, 1, 2, 3]\n",
      "(3, 1, 2, 0),  -> [0, 1, 2, 3]\n",
      "(3, 2, 0, 1),  -> [0, 1, 2, 3]\n",
      "(3, 2, 1, 0),  -> [0, 1, 2, 3]\n"
     ]
    }
   ],
   "source": [
    "import itertools\n",
    "\n",
    "for perm in itertools.permutations(range(4)):\n",
    "    L = list(perm)\n",
    "    heapsort(L)\n",
    "    print(f'{perm},  -> {L}')"
   ]
  }
 ],
 "metadata": {
  "kernelspec": {
   "display_name": "Python 3 (ipykernel)",
   "language": "python",
   "name": "python3"
  },
  "language_info": {
   "codemirror_mode": {
    "name": "ipython",
    "version": 3
   },
   "file_extension": ".py",
   "mimetype": "text/x-python",
   "name": "python",
   "nbconvert_exporter": "python",
   "pygments_lexer": "ipython3",
   "version": "3.9.7"
  }
 },
 "nbformat": 4,
 "nbformat_minor": 5
}
